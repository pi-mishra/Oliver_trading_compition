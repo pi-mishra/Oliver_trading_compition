{
 "cells": [
  {
   "cell_type": "markdown",
   "id": "f7f8f6d6",
   "metadata": {
    "papermill": {
     "duration": 0.004208,
     "end_time": "2023-11-01T16:45:27.024027",
     "exception": false,
     "start_time": "2023-11-01T16:45:27.019819",
     "status": "completed"
    },
    "tags": []
   },
   "source": [
    "# Description\n",
    "Stock exchanges are fast-paced, high-stakes environments where every second counts. The intensity escalates as the trading day approaches its end, peaking in the critical final ten minutes. These moments, often characterised by heightened volatility and rapid price fluctuations, play a pivotal role in shaping the global economic narrative for the day.\n",
    "\n",
    "Each trading day on the Nasdaq Stock Exchange concludes with the Nasdaq Closing Cross auction. This process establishes the official closing prices for securities listed on the exchange. These closing prices serve as key indicators for investors, analysts and other market participants in evaluating the performance of individual securities and the market as a whole.\n",
    "\n",
    "Within this complex financial landscape operates Optiver, a leading global electronic market maker. Fueled by technological innovation, Optiver trades a vast array of financial instruments, such as derivatives, cash equities, ETFs, bonds, and foreign currencies, offering competitive, two-sided prices for thousands of these instruments on major exchanges worldwide.\n",
    "\n",
    "In the last ten minutes of the Nasdaq exchange trading session, market makers like Optiver merge traditional order book data with auction book data. This ability to consolidate information from both sources is critical for providing the best prices to all market participants.\n",
    "\n",
    "In this competition, you are challenged to develop a model capable of predicting the closing price movements for hundreds of Nasdaq listed stocks using data from the order book and the closing auction of the stock. Information from the auction can be used to adjust prices, assess supply and demand dynamics, and identify trading opportunities.\n",
    "\n",
    "Your model can contribute to the consolidation of signals from the auction and order book, leading to improved market efficiency and accessibility, particularly during the intense final ten minutes of trading. You'll also get firsthand experience in handling real-world data science problems, similar to those faced by traders, quantitative researchers and engineers at Optiver."
   ]
  },
  {
   "cell_type": "markdown",
   "id": "022c8dd1",
   "metadata": {
    "papermill": {
     "duration": 0.00306,
     "end_time": "2023-11-01T16:45:27.033036",
     "exception": false,
     "start_time": "2023-11-01T16:45:27.029976",
     "status": "completed"
    },
    "tags": []
   },
   "source": [
    "# Dataset Description\n",
    "This dataset contains historic data for the daily ten minute closing auction on the NASDAQ stock exchange. Your challenge is to predict the future price movements of stocks relative to the price future price movement of a synthetic index composed of NASDAQ-listed stocks.\n",
    "\n",
    "This is a forecasting competition using the time series API. The private leaderboard will be determined using real market data gathered after the submission period closes.\n",
    "\n",
    "Files\n",
    "[train/test].csv The auction data. The test data will be delivered by the API.\n",
    "\n",
    "stock_id - A unique identifier for the stock. Not all stock IDs exist in every time bucket.\n",
    "date_id - A unique identifier for the date. Date IDs are sequential & consistent across all stocks.\n",
    "imbalance_size - The amount unmatched at the current reference price (in USD).\n",
    "imbalance_buy_sell_flag - An indicator reflecting the direction of auction imbalance.\n",
    "buy-side imbalance; 1\n",
    "sell-side imbalance; -1\n",
    "no imbalance; 0\n",
    "reference_price - The price at which paired shares are maximized, the imbalance is minimized and the distance from the bid-ask midpoint is minimized, in that order. Can also be thought of as being equal to the near price bounded between the best bid and ask price.\n",
    "matched_size - The amount that can be matched at the current reference price (in USD).\n",
    "far_price - The crossing price that will maximize the number of shares matched based on auction interest only. This calculation excludes continuous market orders.\n",
    "near_price - The crossing price that will maximize the number of shares matched based auction and continuous market orders.\n",
    "[bid/ask]_price - Price of the most competitive buy/sell level in the non-auction book.\n",
    "[bid/ask]_size - The dollar notional amount on the most competitive buy/sell level in the non-auction book.\n",
    "wap - The weighted average price in the non-auction book.\n",
    "\n",
    "seconds_in_bucket - The number of seconds elapsed since the beginning of the day's closing auction, always starting from 0.\n",
    "target - The 60 second future move in the wap of the stock, less the 60 second future move of the synthetic index. Only provided for the train set.\n",
    "The synthetic index is a custom weighted index of Nasdaq-listed stocks constructed by Optiver for this competition.\n",
    "The unit of the target is basis points, which is a common unit of measurement in financial markets. A 1 basis point price move is equivalent to a 0.01% price move.\n",
    "Where t is the time at the current observation, we can define the target:\n",
    "\n",
    "All size related columns are in USD terms.\n",
    "\n",
    "All price related columns are converted to a price move relative to the stock wap (weighted average price) at the beginning of the auction period.\n",
    "\n",
    "sample_submission A valid sample submission, delivered by the API. See this notebook for a very simple example of how to use the sample submission.\n",
    "\n",
    "revealed_targets When the first time_id for each date (i.e. when seconds_in_bucket equals zero) the API will serve a dataframe providing the true target values for the entire previous date. All other rows contain null values for the columns of interest.\n",
    "\n",
    "public_timeseries_testing_util.py An optional file intended to make it easier to run custom offline API tests. See the script's docstring for details. You will need to edit this file before using it.\n",
    "\n",
    "example_test_files/ Data intended to illustrate how the API functions. Includes the same files and columns delivered by the API. The first three date ids are repeats of the last three date ids in the train set, to enable an illustration of how the API functions.\n",
    "\n",
    "optiver2023/ Files that enable the API. Expect the API to deliver all rows in under five minutes and to reserve less than 0.5 GB of memory. The first three date ids delivered by the API are repeats of the last three date ids in the train set, to better illustrate how the API functions. You must make predictions for those dates in order to advance the API but those predictions are not scored."
   ]
  },
  {
   "cell_type": "code",
   "execution_count": 1,
   "id": "c153b8f5",
   "metadata": {
    "_cell_guid": "b1076dfc-b9ad-4769-8c92-a6c4dae69d19",
    "_uuid": "8f2839f25d086af736a60e9eeb907d3b93b6e0e5",
    "execution": {
     "iopub.execute_input": "2023-11-01T16:45:27.041973Z",
     "iopub.status.busy": "2023-11-01T16:45:27.041270Z",
     "iopub.status.idle": "2023-11-01T16:45:27.416471Z",
     "shell.execute_reply": "2023-11-01T16:45:27.415359Z"
    },
    "papermill": {
     "duration": 0.383592,
     "end_time": "2023-11-01T16:45:27.419855",
     "exception": false,
     "start_time": "2023-11-01T16:45:27.036263",
     "status": "completed"
    },
    "tags": []
   },
   "outputs": [
    {
     "name": "stdout",
     "output_type": "stream",
     "text": [
      "/kaggle/input/optiver-trading-at-the-close/public_timeseries_testing_util.py\n",
      "/kaggle/input/optiver-trading-at-the-close/train.csv\n",
      "/kaggle/input/optiver-trading-at-the-close/example_test_files/sample_submission.csv\n",
      "/kaggle/input/optiver-trading-at-the-close/example_test_files/revealed_targets.csv\n",
      "/kaggle/input/optiver-trading-at-the-close/example_test_files/test.csv\n",
      "/kaggle/input/optiver-trading-at-the-close/optiver2023/competition.cpython-310-x86_64-linux-gnu.so\n",
      "/kaggle/input/optiver-trading-at-the-close/optiver2023/__init__.py\n"
     ]
    }
   ],
   "source": [
    "import numpy as np \n",
    "import pandas as pd \n",
    "\n",
    "import os\n",
    "for dirname, _, filenames in os.walk('/kaggle/input'):\n",
    "    for filename in filenames:\n",
    "        print(os.path.join(dirname, filename))"
   ]
  },
  {
   "cell_type": "markdown",
   "id": "a32d11f6",
   "metadata": {
    "papermill": {
     "duration": 0.003744,
     "end_time": "2023-11-01T16:45:27.427655",
     "exception": false,
     "start_time": "2023-11-01T16:45:27.423911",
     "status": "completed"
    },
    "tags": []
   },
   "source": [
    "# Understanding the data"
   ]
  },
  {
   "cell_type": "code",
   "execution_count": 2,
   "id": "27bcbd1d",
   "metadata": {
    "execution": {
     "iopub.execute_input": "2023-11-01T16:45:27.436090Z",
     "iopub.status.busy": "2023-11-01T16:45:27.435638Z",
     "iopub.status.idle": "2023-11-01T16:45:48.672274Z",
     "shell.execute_reply": "2023-11-01T16:45:48.671081Z"
    },
    "papermill": {
     "duration": 21.243662,
     "end_time": "2023-11-01T16:45:48.674851",
     "exception": false,
     "start_time": "2023-11-01T16:45:27.431189",
     "status": "completed"
    },
    "tags": []
   },
   "outputs": [],
   "source": [
    "df = pd.read_csv(\"/kaggle/input/optiver-trading-at-the-close/train.csv\")"
   ]
  },
  {
   "cell_type": "code",
   "execution_count": 3,
   "id": "e1f59d3a",
   "metadata": {
    "execution": {
     "iopub.execute_input": "2023-11-01T16:45:48.683362Z",
     "iopub.status.busy": "2023-11-01T16:45:48.683018Z",
     "iopub.status.idle": "2023-11-01T16:45:48.713378Z",
     "shell.execute_reply": "2023-11-01T16:45:48.712398Z"
    },
    "papermill": {
     "duration": 0.037384,
     "end_time": "2023-11-01T16:45:48.715796",
     "exception": false,
     "start_time": "2023-11-01T16:45:48.678412",
     "status": "completed"
    },
    "tags": []
   },
   "outputs": [
    {
     "data": {
      "text/html": [
       "<div>\n",
       "<style scoped>\n",
       "    .dataframe tbody tr th:only-of-type {\n",
       "        vertical-align: middle;\n",
       "    }\n",
       "\n",
       "    .dataframe tbody tr th {\n",
       "        vertical-align: top;\n",
       "    }\n",
       "\n",
       "    .dataframe thead th {\n",
       "        text-align: right;\n",
       "    }\n",
       "</style>\n",
       "<table border=\"1\" class=\"dataframe\">\n",
       "  <thead>\n",
       "    <tr style=\"text-align: right;\">\n",
       "      <th></th>\n",
       "      <th>stock_id</th>\n",
       "      <th>date_id</th>\n",
       "      <th>seconds_in_bucket</th>\n",
       "      <th>imbalance_size</th>\n",
       "      <th>imbalance_buy_sell_flag</th>\n",
       "      <th>reference_price</th>\n",
       "      <th>matched_size</th>\n",
       "      <th>far_price</th>\n",
       "      <th>near_price</th>\n",
       "      <th>bid_price</th>\n",
       "      <th>bid_size</th>\n",
       "      <th>ask_price</th>\n",
       "      <th>ask_size</th>\n",
       "      <th>wap</th>\n",
       "      <th>target</th>\n",
       "      <th>time_id</th>\n",
       "      <th>row_id</th>\n",
       "    </tr>\n",
       "  </thead>\n",
       "  <tbody>\n",
       "    <tr>\n",
       "      <th>0</th>\n",
       "      <td>0</td>\n",
       "      <td>0</td>\n",
       "      <td>0</td>\n",
       "      <td>3180602.69</td>\n",
       "      <td>1</td>\n",
       "      <td>0.999812</td>\n",
       "      <td>13380276.64</td>\n",
       "      <td>NaN</td>\n",
       "      <td>NaN</td>\n",
       "      <td>0.999812</td>\n",
       "      <td>60651.50</td>\n",
       "      <td>1.000026</td>\n",
       "      <td>8493.03</td>\n",
       "      <td>1.0</td>\n",
       "      <td>-3.029704</td>\n",
       "      <td>0</td>\n",
       "      <td>0_0_0</td>\n",
       "    </tr>\n",
       "    <tr>\n",
       "      <th>1</th>\n",
       "      <td>1</td>\n",
       "      <td>0</td>\n",
       "      <td>0</td>\n",
       "      <td>166603.91</td>\n",
       "      <td>-1</td>\n",
       "      <td>0.999896</td>\n",
       "      <td>1642214.25</td>\n",
       "      <td>NaN</td>\n",
       "      <td>NaN</td>\n",
       "      <td>0.999896</td>\n",
       "      <td>3233.04</td>\n",
       "      <td>1.000660</td>\n",
       "      <td>20605.09</td>\n",
       "      <td>1.0</td>\n",
       "      <td>-5.519986</td>\n",
       "      <td>0</td>\n",
       "      <td>0_0_1</td>\n",
       "    </tr>\n",
       "    <tr>\n",
       "      <th>2</th>\n",
       "      <td>2</td>\n",
       "      <td>0</td>\n",
       "      <td>0</td>\n",
       "      <td>302879.87</td>\n",
       "      <td>-1</td>\n",
       "      <td>0.999561</td>\n",
       "      <td>1819368.03</td>\n",
       "      <td>NaN</td>\n",
       "      <td>NaN</td>\n",
       "      <td>0.999403</td>\n",
       "      <td>37956.00</td>\n",
       "      <td>1.000298</td>\n",
       "      <td>18995.00</td>\n",
       "      <td>1.0</td>\n",
       "      <td>-8.389950</td>\n",
       "      <td>0</td>\n",
       "      <td>0_0_2</td>\n",
       "    </tr>\n",
       "    <tr>\n",
       "      <th>3</th>\n",
       "      <td>3</td>\n",
       "      <td>0</td>\n",
       "      <td>0</td>\n",
       "      <td>11917682.27</td>\n",
       "      <td>-1</td>\n",
       "      <td>1.000171</td>\n",
       "      <td>18389745.62</td>\n",
       "      <td>NaN</td>\n",
       "      <td>NaN</td>\n",
       "      <td>0.999999</td>\n",
       "      <td>2324.90</td>\n",
       "      <td>1.000214</td>\n",
       "      <td>479032.40</td>\n",
       "      <td>1.0</td>\n",
       "      <td>-4.010200</td>\n",
       "      <td>0</td>\n",
       "      <td>0_0_3</td>\n",
       "    </tr>\n",
       "    <tr>\n",
       "      <th>4</th>\n",
       "      <td>4</td>\n",
       "      <td>0</td>\n",
       "      <td>0</td>\n",
       "      <td>447549.96</td>\n",
       "      <td>-1</td>\n",
       "      <td>0.999532</td>\n",
       "      <td>17860614.95</td>\n",
       "      <td>NaN</td>\n",
       "      <td>NaN</td>\n",
       "      <td>0.999394</td>\n",
       "      <td>16485.54</td>\n",
       "      <td>1.000016</td>\n",
       "      <td>434.10</td>\n",
       "      <td>1.0</td>\n",
       "      <td>-7.349849</td>\n",
       "      <td>0</td>\n",
       "      <td>0_0_4</td>\n",
       "    </tr>\n",
       "  </tbody>\n",
       "</table>\n",
       "</div>"
      ],
      "text/plain": [
       "   stock_id  date_id  seconds_in_bucket  imbalance_size  \\\n",
       "0         0        0                  0      3180602.69   \n",
       "1         1        0                  0       166603.91   \n",
       "2         2        0                  0       302879.87   \n",
       "3         3        0                  0     11917682.27   \n",
       "4         4        0                  0       447549.96   \n",
       "\n",
       "   imbalance_buy_sell_flag  reference_price  matched_size  far_price  \\\n",
       "0                        1         0.999812   13380276.64        NaN   \n",
       "1                       -1         0.999896    1642214.25        NaN   \n",
       "2                       -1         0.999561    1819368.03        NaN   \n",
       "3                       -1         1.000171   18389745.62        NaN   \n",
       "4                       -1         0.999532   17860614.95        NaN   \n",
       "\n",
       "   near_price  bid_price  bid_size  ask_price   ask_size  wap    target  \\\n",
       "0         NaN   0.999812  60651.50   1.000026    8493.03  1.0 -3.029704   \n",
       "1         NaN   0.999896   3233.04   1.000660   20605.09  1.0 -5.519986   \n",
       "2         NaN   0.999403  37956.00   1.000298   18995.00  1.0 -8.389950   \n",
       "3         NaN   0.999999   2324.90   1.000214  479032.40  1.0 -4.010200   \n",
       "4         NaN   0.999394  16485.54   1.000016     434.10  1.0 -7.349849   \n",
       "\n",
       "   time_id row_id  \n",
       "0        0  0_0_0  \n",
       "1        0  0_0_1  \n",
       "2        0  0_0_2  \n",
       "3        0  0_0_3  \n",
       "4        0  0_0_4  "
      ]
     },
     "execution_count": 3,
     "metadata": {},
     "output_type": "execute_result"
    }
   ],
   "source": [
    "df.head()"
   ]
  },
  {
   "cell_type": "code",
   "execution_count": 4,
   "id": "d7880129",
   "metadata": {
    "execution": {
     "iopub.execute_input": "2023-11-01T16:45:48.724811Z",
     "iopub.status.busy": "2023-11-01T16:45:48.724430Z",
     "iopub.status.idle": "2023-11-01T16:45:48.731011Z",
     "shell.execute_reply": "2023-11-01T16:45:48.730029Z"
    },
    "papermill": {
     "duration": 0.013503,
     "end_time": "2023-11-01T16:45:48.733178",
     "exception": false,
     "start_time": "2023-11-01T16:45:48.719675",
     "status": "completed"
    },
    "tags": []
   },
   "outputs": [
    {
     "data": {
      "text/plain": [
       "Index(['stock_id', 'date_id', 'seconds_in_bucket', 'imbalance_size',\n",
       "       'imbalance_buy_sell_flag', 'reference_price', 'matched_size',\n",
       "       'far_price', 'near_price', 'bid_price', 'bid_size', 'ask_price',\n",
       "       'ask_size', 'wap', 'target', 'time_id', 'row_id'],\n",
       "      dtype='object')"
      ]
     },
     "execution_count": 4,
     "metadata": {},
     "output_type": "execute_result"
    }
   ],
   "source": [
    "df.columns"
   ]
  },
  {
   "cell_type": "code",
   "execution_count": 5,
   "id": "ee6a1606",
   "metadata": {
    "execution": {
     "iopub.execute_input": "2023-11-01T16:45:48.742238Z",
     "iopub.status.busy": "2023-11-01T16:45:48.741906Z",
     "iopub.status.idle": "2023-11-01T16:45:48.747654Z",
     "shell.execute_reply": "2023-11-01T16:45:48.746661Z"
    },
    "papermill": {
     "duration": 0.012805,
     "end_time": "2023-11-01T16:45:48.749740",
     "exception": false,
     "start_time": "2023-11-01T16:45:48.736935",
     "status": "completed"
    },
    "tags": []
   },
   "outputs": [
    {
     "data": {
      "text/plain": [
       "(5237980, 17)"
      ]
     },
     "execution_count": 5,
     "metadata": {},
     "output_type": "execute_result"
    }
   ],
   "source": [
    "df.shape"
   ]
  },
  {
   "cell_type": "code",
   "execution_count": 6,
   "id": "7460ab82",
   "metadata": {
    "execution": {
     "iopub.execute_input": "2023-11-01T16:45:48.759326Z",
     "iopub.status.busy": "2023-11-01T16:45:48.758921Z",
     "iopub.status.idle": "2023-11-01T16:45:48.785045Z",
     "shell.execute_reply": "2023-11-01T16:45:48.784050Z"
    },
    "papermill": {
     "duration": 0.033474,
     "end_time": "2023-11-01T16:45:48.787213",
     "exception": false,
     "start_time": "2023-11-01T16:45:48.753739",
     "status": "completed"
    },
    "tags": []
   },
   "outputs": [
    {
     "name": "stdout",
     "output_type": "stream",
     "text": [
      "<class 'pandas.core.frame.DataFrame'>\n",
      "RangeIndex: 5237980 entries, 0 to 5237979\n",
      "Data columns (total 17 columns):\n",
      " #   Column                   Dtype  \n",
      "---  ------                   -----  \n",
      " 0   stock_id                 int64  \n",
      " 1   date_id                  int64  \n",
      " 2   seconds_in_bucket        int64  \n",
      " 3   imbalance_size           float64\n",
      " 4   imbalance_buy_sell_flag  int64  \n",
      " 5   reference_price          float64\n",
      " 6   matched_size             float64\n",
      " 7   far_price                float64\n",
      " 8   near_price               float64\n",
      " 9   bid_price                float64\n",
      " 10  bid_size                 float64\n",
      " 11  ask_price                float64\n",
      " 12  ask_size                 float64\n",
      " 13  wap                      float64\n",
      " 14  target                   float64\n",
      " 15  time_id                  int64  \n",
      " 16  row_id                   object \n",
      "dtypes: float64(11), int64(5), object(1)\n",
      "memory usage: 679.4+ MB\n"
     ]
    }
   ],
   "source": [
    "df.info()"
   ]
  },
  {
   "cell_type": "code",
   "execution_count": 7,
   "id": "e05e7426",
   "metadata": {
    "execution": {
     "iopub.execute_input": "2023-11-01T16:45:48.796968Z",
     "iopub.status.busy": "2023-11-01T16:45:48.796262Z",
     "iopub.status.idle": "2023-11-01T16:45:49.140067Z",
     "shell.execute_reply": "2023-11-01T16:45:49.138970Z"
    },
    "papermill": {
     "duration": 0.35112,
     "end_time": "2023-11-01T16:45:49.142375",
     "exception": false,
     "start_time": "2023-11-01T16:45:48.791255",
     "status": "completed"
    },
    "tags": []
   },
   "outputs": [
    {
     "data": {
      "text/plain": [
       "stock_id                    0.000000\n",
       "date_id                     0.000000\n",
       "seconds_in_bucket           0.000000\n",
       "imbalance_size              0.004200\n",
       "imbalance_buy_sell_flag     0.000000\n",
       "reference_price             0.004200\n",
       "matched_size                0.004200\n",
       "far_price                  55.256836\n",
       "near_price                 54.547364\n",
       "bid_price                   0.004200\n",
       "bid_size                    0.000000\n",
       "ask_price                   0.004200\n",
       "ask_size                    0.000000\n",
       "wap                         0.004200\n",
       "target                      0.001680\n",
       "time_id                     0.000000\n",
       "row_id                      0.000000\n",
       "dtype: float64"
      ]
     },
     "execution_count": 7,
     "metadata": {},
     "output_type": "execute_result"
    }
   ],
   "source": [
    "df.isnull().mean()*100"
   ]
  },
  {
   "cell_type": "code",
   "execution_count": 8,
   "id": "577bcf58",
   "metadata": {
    "execution": {
     "iopub.execute_input": "2023-11-01T16:45:49.152566Z",
     "iopub.status.busy": "2023-11-01T16:45:49.152205Z",
     "iopub.status.idle": "2023-11-01T16:45:52.685198Z",
     "shell.execute_reply": "2023-11-01T16:45:52.684053Z"
    },
    "papermill": {
     "duration": 3.540923,
     "end_time": "2023-11-01T16:45:52.687664",
     "exception": false,
     "start_time": "2023-11-01T16:45:49.146741",
     "status": "completed"
    },
    "tags": []
   },
   "outputs": [
    {
     "data": {
      "text/html": [
       "<div>\n",
       "<style scoped>\n",
       "    .dataframe tbody tr th:only-of-type {\n",
       "        vertical-align: middle;\n",
       "    }\n",
       "\n",
       "    .dataframe tbody tr th {\n",
       "        vertical-align: top;\n",
       "    }\n",
       "\n",
       "    .dataframe thead th {\n",
       "        text-align: right;\n",
       "    }\n",
       "</style>\n",
       "<table border=\"1\" class=\"dataframe\">\n",
       "  <thead>\n",
       "    <tr style=\"text-align: right;\">\n",
       "      <th></th>\n",
       "      <th>stock_id</th>\n",
       "      <th>date_id</th>\n",
       "      <th>seconds_in_bucket</th>\n",
       "      <th>imbalance_size</th>\n",
       "      <th>imbalance_buy_sell_flag</th>\n",
       "      <th>reference_price</th>\n",
       "      <th>matched_size</th>\n",
       "      <th>far_price</th>\n",
       "      <th>near_price</th>\n",
       "      <th>bid_price</th>\n",
       "      <th>bid_size</th>\n",
       "      <th>ask_price</th>\n",
       "      <th>ask_size</th>\n",
       "      <th>wap</th>\n",
       "      <th>target</th>\n",
       "      <th>time_id</th>\n",
       "    </tr>\n",
       "  </thead>\n",
       "  <tbody>\n",
       "    <tr>\n",
       "      <th>count</th>\n",
       "      <td>5237980.00</td>\n",
       "      <td>5237980.00</td>\n",
       "      <td>5237980.00</td>\n",
       "      <td>5.237760e+06</td>\n",
       "      <td>5237980.00</td>\n",
       "      <td>5237760.00</td>\n",
       "      <td>5.237760e+06</td>\n",
       "      <td>2343638.00</td>\n",
       "      <td>2380800.00</td>\n",
       "      <td>5237760.00</td>\n",
       "      <td>5237980.00</td>\n",
       "      <td>5237760.00</td>\n",
       "      <td>5237980.00</td>\n",
       "      <td>5237760.00</td>\n",
       "      <td>5237892.00</td>\n",
       "      <td>5237980.00</td>\n",
       "    </tr>\n",
       "    <tr>\n",
       "      <th>mean</th>\n",
       "      <td>99.29</td>\n",
       "      <td>241.51</td>\n",
       "      <td>270.00</td>\n",
       "      <td>5.715293e+06</td>\n",
       "      <td>-0.01</td>\n",
       "      <td>1.00</td>\n",
       "      <td>4.510025e+07</td>\n",
       "      <td>1.00</td>\n",
       "      <td>1.00</td>\n",
       "      <td>1.00</td>\n",
       "      <td>51813.59</td>\n",
       "      <td>1.00</td>\n",
       "      <td>53575.68</td>\n",
       "      <td>1.00</td>\n",
       "      <td>-0.05</td>\n",
       "      <td>13310.05</td>\n",
       "    </tr>\n",
       "    <tr>\n",
       "      <th>std</th>\n",
       "      <td>57.87</td>\n",
       "      <td>138.53</td>\n",
       "      <td>158.75</td>\n",
       "      <td>2.051591e+07</td>\n",
       "      <td>0.89</td>\n",
       "      <td>0.00</td>\n",
       "      <td>1.398413e+08</td>\n",
       "      <td>0.72</td>\n",
       "      <td>0.01</td>\n",
       "      <td>0.00</td>\n",
       "      <td>111421.41</td>\n",
       "      <td>0.00</td>\n",
       "      <td>129355.44</td>\n",
       "      <td>0.00</td>\n",
       "      <td>9.45</td>\n",
       "      <td>7619.27</td>\n",
       "    </tr>\n",
       "    <tr>\n",
       "      <th>min</th>\n",
       "      <td>0.00</td>\n",
       "      <td>0.00</td>\n",
       "      <td>0.00</td>\n",
       "      <td>0.000000e+00</td>\n",
       "      <td>-1.00</td>\n",
       "      <td>0.94</td>\n",
       "      <td>4.316610e+03</td>\n",
       "      <td>0.00</td>\n",
       "      <td>0.79</td>\n",
       "      <td>0.93</td>\n",
       "      <td>0.00</td>\n",
       "      <td>0.94</td>\n",
       "      <td>0.00</td>\n",
       "      <td>0.94</td>\n",
       "      <td>-385.29</td>\n",
       "      <td>0.00</td>\n",
       "    </tr>\n",
       "    <tr>\n",
       "      <th>25%</th>\n",
       "      <td>49.00</td>\n",
       "      <td>122.00</td>\n",
       "      <td>130.00</td>\n",
       "      <td>8.453415e+04</td>\n",
       "      <td>-1.00</td>\n",
       "      <td>1.00</td>\n",
       "      <td>5.279575e+06</td>\n",
       "      <td>1.00</td>\n",
       "      <td>1.00</td>\n",
       "      <td>1.00</td>\n",
       "      <td>7374.72</td>\n",
       "      <td>1.00</td>\n",
       "      <td>7823.70</td>\n",
       "      <td>1.00</td>\n",
       "      <td>-4.56</td>\n",
       "      <td>6729.00</td>\n",
       "    </tr>\n",
       "    <tr>\n",
       "      <th>50%</th>\n",
       "      <td>99.00</td>\n",
       "      <td>242.00</td>\n",
       "      <td>270.00</td>\n",
       "      <td>1.113604e+06</td>\n",
       "      <td>0.00</td>\n",
       "      <td>1.00</td>\n",
       "      <td>1.288264e+07</td>\n",
       "      <td>1.00</td>\n",
       "      <td>1.00</td>\n",
       "      <td>1.00</td>\n",
       "      <td>21969.00</td>\n",
       "      <td>1.00</td>\n",
       "      <td>23017.92</td>\n",
       "      <td>1.00</td>\n",
       "      <td>-0.06</td>\n",
       "      <td>13345.00</td>\n",
       "    </tr>\n",
       "    <tr>\n",
       "      <th>75%</th>\n",
       "      <td>149.00</td>\n",
       "      <td>361.00</td>\n",
       "      <td>410.00</td>\n",
       "      <td>4.190951e+06</td>\n",
       "      <td>1.00</td>\n",
       "      <td>1.00</td>\n",
       "      <td>3.270013e+07</td>\n",
       "      <td>1.00</td>\n",
       "      <td>1.00</td>\n",
       "      <td>1.00</td>\n",
       "      <td>55831.68</td>\n",
       "      <td>1.00</td>\n",
       "      <td>57878.41</td>\n",
       "      <td>1.00</td>\n",
       "      <td>4.41</td>\n",
       "      <td>19907.00</td>\n",
       "    </tr>\n",
       "    <tr>\n",
       "      <th>max</th>\n",
       "      <td>199.00</td>\n",
       "      <td>480.00</td>\n",
       "      <td>540.00</td>\n",
       "      <td>2.982028e+09</td>\n",
       "      <td>1.00</td>\n",
       "      <td>1.08</td>\n",
       "      <td>7.713682e+09</td>\n",
       "      <td>437.95</td>\n",
       "      <td>1.31</td>\n",
       "      <td>1.08</td>\n",
       "      <td>30287840.00</td>\n",
       "      <td>1.08</td>\n",
       "      <td>54405000.00</td>\n",
       "      <td>1.08</td>\n",
       "      <td>446.07</td>\n",
       "      <td>26454.00</td>\n",
       "    </tr>\n",
       "  </tbody>\n",
       "</table>\n",
       "</div>"
      ],
      "text/plain": [
       "         stock_id     date_id  seconds_in_bucket  imbalance_size  \\\n",
       "count  5237980.00  5237980.00         5237980.00    5.237760e+06   \n",
       "mean        99.29      241.51             270.00    5.715293e+06   \n",
       "std         57.87      138.53             158.75    2.051591e+07   \n",
       "min          0.00        0.00               0.00    0.000000e+00   \n",
       "25%         49.00      122.00             130.00    8.453415e+04   \n",
       "50%         99.00      242.00             270.00    1.113604e+06   \n",
       "75%        149.00      361.00             410.00    4.190951e+06   \n",
       "max        199.00      480.00             540.00    2.982028e+09   \n",
       "\n",
       "       imbalance_buy_sell_flag  reference_price  matched_size   far_price  \\\n",
       "count               5237980.00       5237760.00  5.237760e+06  2343638.00   \n",
       "mean                     -0.01             1.00  4.510025e+07        1.00   \n",
       "std                       0.89             0.00  1.398413e+08        0.72   \n",
       "min                      -1.00             0.94  4.316610e+03        0.00   \n",
       "25%                      -1.00             1.00  5.279575e+06        1.00   \n",
       "50%                       0.00             1.00  1.288264e+07        1.00   \n",
       "75%                       1.00             1.00  3.270013e+07        1.00   \n",
       "max                       1.00             1.08  7.713682e+09      437.95   \n",
       "\n",
       "       near_price   bid_price     bid_size   ask_price     ask_size  \\\n",
       "count  2380800.00  5237760.00   5237980.00  5237760.00   5237980.00   \n",
       "mean         1.00        1.00     51813.59        1.00     53575.68   \n",
       "std          0.01        0.00    111421.41        0.00    129355.44   \n",
       "min          0.79        0.93         0.00        0.94         0.00   \n",
       "25%          1.00        1.00      7374.72        1.00      7823.70   \n",
       "50%          1.00        1.00     21969.00        1.00     23017.92   \n",
       "75%          1.00        1.00     55831.68        1.00     57878.41   \n",
       "max          1.31        1.08  30287840.00        1.08  54405000.00   \n",
       "\n",
       "              wap      target     time_id  \n",
       "count  5237760.00  5237892.00  5237980.00  \n",
       "mean         1.00       -0.05    13310.05  \n",
       "std          0.00        9.45     7619.27  \n",
       "min          0.94     -385.29        0.00  \n",
       "25%          1.00       -4.56     6729.00  \n",
       "50%          1.00       -0.06    13345.00  \n",
       "75%          1.00        4.41    19907.00  \n",
       "max          1.08      446.07    26454.00  "
      ]
     },
     "execution_count": 8,
     "metadata": {},
     "output_type": "execute_result"
    }
   ],
   "source": [
    "round(df.describe(),2)"
   ]
  },
  {
   "cell_type": "code",
   "execution_count": null,
   "id": "63d315d0",
   "metadata": {
    "papermill": {
     "duration": 0.004201,
     "end_time": "2023-11-01T16:45:52.696469",
     "exception": false,
     "start_time": "2023-11-01T16:45:52.692268",
     "status": "completed"
    },
    "tags": []
   },
   "outputs": [],
   "source": []
  }
 ],
 "metadata": {
  "kernelspec": {
   "display_name": "Python 3",
   "language": "python",
   "name": "python3"
  },
  "language_info": {
   "codemirror_mode": {
    "name": "ipython",
    "version": 3
   },
   "file_extension": ".py",
   "mimetype": "text/x-python",
   "name": "python",
   "nbconvert_exporter": "python",
   "pygments_lexer": "ipython3",
   "version": "3.10.12"
  },
  "papermill": {
   "default_parameters": {},
   "duration": 29.336743,
   "end_time": "2023-11-01T16:45:53.221089",
   "environment_variables": {},
   "exception": null,
   "input_path": "__notebook__.ipynb",
   "output_path": "__notebook__.ipynb",
   "parameters": {},
   "start_time": "2023-11-01T16:45:23.884346",
   "version": "2.4.0"
  }
 },
 "nbformat": 4,
 "nbformat_minor": 5
}
